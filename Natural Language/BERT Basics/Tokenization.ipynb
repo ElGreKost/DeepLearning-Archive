{
 "cells": [
  {
   "cell_type": "code",
   "id": "initial_id",
   "metadata": {
    "collapsed": true,
    "ExecuteTime": {
     "end_time": "2024-07-22T07:38:50.689245Z",
     "start_time": "2024-07-22T07:38:43.264022Z"
    }
   },
   "source": [
    "from transformers import BertModel, BertTokenizer\n",
    "import torch\n",
    "from sklearn.metrics.pairwise import cosine_similarity"
   ],
   "outputs": [],
   "execution_count": 1
  },
  {
   "metadata": {
    "ExecuteTime": {
     "end_time": "2024-07-22T07:47:34.604353Z",
     "start_time": "2024-07-22T07:46:51.866720Z"
    }
   },
   "cell_type": "code",
   "source": [
    "model = BertModel.from_pretrained('bert-base-uncased')\n",
    "tokenizer = BertTokenizer.from_pretrained('bert-base-uncased')\n",
    "\n",
    "print(f'Length of BERT based vocabulary: {len(tokenizer.vocab)}')"
   ],
   "id": "645a1d58f654ff60",
   "outputs": [
    {
     "data": {
      "text/plain": [
       "model.safetensors:   0%|          | 0.00/440M [00:00<?, ?B/s]"
      ],
      "application/vnd.jupyter.widget-view+json": {
       "version_major": 2,
       "version_minor": 0,
       "model_id": "3246b85db51140af8ae5e5ce5abb5617"
      }
     },
     "metadata": {},
     "output_type": "display_data"
    },
    {
     "name": "stderr",
     "output_type": "stream",
     "text": [
      "C:\\Users\\kosti\\AppData\\Roaming\\Python\\Python311\\site-packages\\huggingface_hub\\file_download.py:157: UserWarning: `huggingface_hub` cache-system uses symlinks by default to efficiently store duplicated files but your machine does not support them in C:\\Users\\kosti\\.cache\\huggingface\\hub\\models--bert-base-uncased. Caching files will still work but in a degraded version that might require more space on your disk. This warning can be disabled by setting the `HF_HUB_DISABLE_SYMLINKS_WARNING` environment variable. For more details, see https://huggingface.co/docs/huggingface_hub/how-to-cache#limitations.\n",
      "To support symlinks on Windows, you either need to activate Developer Mode or to run Python as an administrator. In order to see activate developer mode, see this article: https://docs.microsoft.com/en-us/windows/apps/get-started/enable-your-device-for-development\n",
      "  warnings.warn(message)\n",
      "Some weights of the model checkpoint at bert-base-uncased were not used when initializing BertModel: ['cls.seq_relationship.bias', 'cls.predictions.bias', 'cls.predictions.transform.dense.weight', 'cls.seq_relationship.weight', 'cls.predictions.transform.LayerNorm.weight', 'cls.predictions.transform.LayerNorm.bias', 'cls.predictions.transform.dense.bias']\n",
      "- This IS expected if you are initializing BertModel from the checkpoint of a model trained on another task or with another architecture (e.g. initializing a BertForSequenceClassification model from a BertForPreTraining model).\n",
      "- This IS NOT expected if you are initializing BertModel from the checkpoint of a model that you expect to be exactly identical (initializing a BertForSequenceClassification model from a BertForSequenceClassification model).\n"
     ]
    },
    {
     "name": "stdout",
     "output_type": "stream",
     "text": [
      "Length of BERT based vocabulary: 30522\n"
     ]
    }
   ],
   "execution_count": 15
  },
  {
   "metadata": {
    "ExecuteTime": {
     "end_time": "2024-07-22T07:40:22.830928Z",
     "start_time": "2024-07-22T07:40:22.818693Z"
    }
   },
   "cell_type": "code",
   "source": [
    "text = \"A simple sentence!\"\n",
    "\n",
    "tokens = tokenizer.encode(text)\n",
    "tokens"
   ],
   "id": "581e81b69de9cfbd",
   "outputs": [
    {
     "data": {
      "text/plain": [
       "[101, 1037, 3722, 6251, 999, 102]"
      ]
     },
     "execution_count": 4,
     "metadata": {},
     "output_type": "execute_result"
    }
   ],
   "execution_count": 4
  },
  {
   "metadata": {
    "ExecuteTime": {
     "end_time": "2024-07-22T07:41:36.012667Z",
     "start_time": "2024-07-22T07:41:36.004130Z"
    }
   },
   "cell_type": "code",
   "source": [
    "print(tokenizer.decode(tokens))\n",
    "for t in tokens:\n",
    "    print(f\"Token: {t}, subword: {tokenizer.decode([t])}\")"
   ],
   "id": "62f406c645633a67",
   "outputs": [
    {
     "name": "stdout",
     "output_type": "stream",
     "text": [
      "[CLS] a simple sentence! [SEP]\n",
      "Token: 101, subword: [CLS]\n",
      "Token: 1037, subword: a\n",
      "Token: 3722, subword: simple\n",
      "Token: 6251, subword: sentence\n",
      "Token: 999, subword: !\n",
      "Token: 102, subword: [SEP]\n"
     ]
    }
   ],
   "execution_count": 8
  },
  {
   "metadata": {
    "ExecuteTime": {
     "end_time": "2024-07-22T07:42:11.445436Z",
     "start_time": "2024-07-22T07:42:11.438886Z"
    }
   },
   "cell_type": "code",
   "source": "'kkakkavas' in tokenizer.vocab",
   "id": "57828a83ced32f47",
   "outputs": [
    {
     "data": {
      "text/plain": [
       "False"
      ]
     },
     "execution_count": 10,
     "metadata": {},
     "output_type": "execute_result"
    }
   ],
   "execution_count": 10
  },
  {
   "metadata": {
    "ExecuteTime": {
     "end_time": "2024-07-22T07:43:06.262049Z",
     "start_time": "2024-07-22T07:43:06.255548Z"
    }
   },
   "cell_type": "code",
   "source": [
    "text_with_unk_words = \"Kakkavas loves a beautiful day\"\n",
    "tokens_with_unk_words = tokenizer.encode(text_with_unk_words)\n",
    "\n",
    "for t in tokens_with_unk_words:\n",
    "    print(f\"Token: {t}, subword: {tokenizer.decode([t])}\")"
   ],
   "id": "a73726b17b9e109a",
   "outputs": [
    {
     "name": "stdout",
     "output_type": "stream",
     "text": [
      "Token: 101, subword: [CLS]\n",
      "Token: 10556, subword: ka\n",
      "Token: 15714, subword: ##kka\n",
      "Token: 12044, subword: ##vas\n",
      "Token: 7459, subword: loves\n",
      "Token: 1037, subword: a\n",
      "Token: 3376, subword: beautiful\n",
      "Token: 2154, subword: day\n",
      "Token: 102, subword: [SEP]\n"
     ]
    }
   ],
   "execution_count": 11
  },
  {
   "metadata": {
    "ExecuteTime": {
     "end_time": "2024-07-22T07:44:44.752148Z",
     "start_time": "2024-07-22T07:44:44.744027Z"
    }
   },
   "cell_type": "code",
   "source": [
    "from pprint import pprint\n",
    "# Encode plus is the __call__() of the tokenizer\n",
    "tokens = tokenizer.encode_plus(text_with_unk_words)\n",
    "pprint(tokens)"
   ],
   "id": "32d25d6f7b420592",
   "outputs": [
    {
     "name": "stdout",
     "output_type": "stream",
     "text": [
      "{'attention_mask': [1, 1, 1, 1, 1, 1, 1, 1, 1],\n",
      " 'input_ids': [101, 10556, 15714, 12044, 7459, 1037, 3376, 2154, 102],\n",
      " 'token_type_ids': [0, 0, 0, 0, 0, 0, 0, 0, 0]}\n"
     ]
    }
   ],
   "execution_count": 13
  },
  {
   "metadata": {},
   "cell_type": "markdown",
   "source": "# Context Capturing example",
   "id": "de970108f3bfc782"
  },
  {
   "metadata": {
    "ExecuteTime": {
     "end_time": "2024-07-22T07:46:07.890201Z",
     "start_time": "2024-07-22T07:46:07.883844Z"
    }
   },
   "cell_type": "code",
   "source": [
    "python_pet = tokenizer.encode('I love my pet python')\n",
    "python_language = tokenizer.encode('I love coding in python')"
   ],
   "id": "72704099ab578bf4",
   "outputs": [],
   "execution_count": 14
  },
  {
   "metadata": {
    "ExecuteTime": {
     "end_time": "2024-07-22T07:55:01.563845Z",
     "start_time": "2024-07-22T07:55:01.154331Z"
    }
   },
   "cell_type": "code",
   "source": [
    "python_pet_embedding = model(torch.tensor(python_pet).unsqueeze(0))[0][:,5,:].detach().numpy()\n",
    "python_language_embedding = model(torch.tensor(python_language).unsqueeze(0))[0][:,5,:].detach().numpy()\n",
    "snake_alone_embedding = model(torch.tensor(tokenizer.encode('snake')).unsqueeze(0))[0][:,1,:].detach().numpy()\n",
    "programming_along_embedding = model(torch.tensor(tokenizer.encode('asdgasdg')).unsqueeze(0))[0][:,1,:].detach().numpy()"
   ],
   "id": "404b53860c9841d1",
   "outputs": [],
   "execution_count": 31
  },
  {
   "metadata": {
    "ExecuteTime": {
     "end_time": "2024-07-22T07:55:02.968361Z",
     "start_time": "2024-07-22T07:55:02.949297Z"
    }
   },
   "cell_type": "code",
   "source": "python_language_embedding.shape, snake_alone_embedding.shape",
   "id": "edad8af96c80a376",
   "outputs": [
    {
     "data": {
      "text/plain": [
       "((1, 768), (1, 768))"
      ]
     },
     "execution_count": 32,
     "metadata": {},
     "output_type": "execute_result"
    }
   ],
   "execution_count": 32
  },
  {
   "metadata": {
    "ExecuteTime": {
     "end_time": "2024-07-22T07:55:03.123297Z",
     "start_time": "2024-07-22T07:55:03.106483Z"
    }
   },
   "cell_type": "code",
   "source": [
    "print(cosine_similarity(python_pet_embedding, snake_alone_embedding), cosine_similarity(python_language_embedding, programming_along_embedding))\n",
    "print(cosine_similarity(python_language_embedding, snake_alone_embedding), cosine_similarity(python_language_embedding, programming_along_embedding))"
   ],
   "id": "7483fd8bf5061719",
   "outputs": [
    {
     "name": "stdout",
     "output_type": "stream",
     "text": [
      "[[0.6928657]] [[0.27551398]]\n",
      "[[0.58434784]] [[0.27551398]]\n"
     ]
    }
   ],
   "execution_count": 33
  },
  {
   "metadata": {},
   "cell_type": "code",
   "outputs": [],
   "execution_count": null,
   "source": "",
   "id": "37b6148730760845"
  }
 ],
 "metadata": {
  "kernelspec": {
   "display_name": "Python 3",
   "language": "python",
   "name": "python3"
  },
  "language_info": {
   "codemirror_mode": {
    "name": "ipython",
    "version": 2
   },
   "file_extension": ".py",
   "mimetype": "text/x-python",
   "name": "python",
   "nbconvert_exporter": "python",
   "pygments_lexer": "ipython2",
   "version": "2.7.6"
  }
 },
 "nbformat": 4,
 "nbformat_minor": 5
}
