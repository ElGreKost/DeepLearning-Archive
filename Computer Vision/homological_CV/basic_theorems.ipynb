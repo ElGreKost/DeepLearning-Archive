{
 "cells": [
  {
   "cell_type": "code",
   "id": "initial_id",
   "metadata": {
    "collapsed": true,
    "ExecuteTime": {
     "end_time": "2024-04-16T22:30:22.179583Z",
     "start_time": "2024-04-16T22:30:21.832248Z"
    }
   },
   "source": [
    "\n",
    "import matplotlib.pyplot as plt\n",
    "from utils import *\n",
    "\n",
    "# Create a simple 28x28 image with a basic shape (e.g., a cross)\n",
    "image = np.zeros((28, 28))\n",
    "image[13, :] = 255  # Horizontal line\n",
    "image[:, 13] = 255  # Vertical line\n",
    "\n",
    "# Define transformation matrices for translation, rotation, and scaling\n",
    "tx, ty = 5, 5  # Translation vector\n",
    "theta = np.radians(45)  # Rotation angle\n",
    "sx, sy = 0.5, 0.5  # Scaling factors\n",
    "\n",
    "translation_matrix = np.array([[1, 0, tx], [0, 1, ty], [1, 0, 1]])\n",
    "rotation_matrix = np.array([[np.cos(theta), -np.sin(theta), 0], [np.sin(theta), np.cos(theta), 0], [0, 0, 1]])\n",
    "scaling_matrix = np.array([[sx, 0, 0], [0, sy, 0], [0, 0, 1]])\n",
    "\n",
    "projection_matrix = scaling_matrix @ rotation_matrix @ [[np.eye(2), np.zeros((2,1))], []]\n",
    "\n",
    "\n",
    "# Apply transformations\n",
    "translated_image = apply_transformation(image, translation_matrix)\n",
    "rotated_image = apply_transformation(image, rotation_matrix)\n",
    "scaled_image = apply_transformation(image, scaling_matrix)\n",
    "\n",
    "# Plot results\n",
    "fig, axes = plt.subplots(1, 4, figsize=(12, 3))\n",
    "axes[0].imshow(image, cmap='gray')\n",
    "axes[0].set_title('Original')\n",
    "axes[0].axis('off')\n",
    "\n",
    "axes[1].imshow(translated_image, cmap='gray')\n",
    "axes[1].set_title('Translated')\n",
    "axes[1].axis('off')\n",
    "\n",
    "axes[2].imshow(rotated_image, cmap='gray')\n",
    "axes[2].set_title('Rotated')\n",
    "axes[2].axis('off')\n",
    "\n",
    "axes[3].imshow(scaled_image, cmap='gray')\n",
    "axes[3].set_title('Scaled')\n",
    "axes[3].axis('off')\n",
    "\n",
    "plt.show()\n"
   ],
   "outputs": [
    {
     "data": {
      "text/plain": [
       "<Figure size 1200x300 with 4 Axes>"
      ],
      "image/png": "[encoded data removed]"
     },
     "metadata": {},
     "output_type": "display_data"
    }
   ],
   "execution_count": 3
  },
  {
   "metadata": {
    "ExecuteTime": {
     "end_time": "2024-04-16T22:17:17.353403Z",
     "start_time": "2024-04-16T22:17:17.197048Z"
    }
   },
   "cell_type": "code",
   "source": [
    "def set_line(img, coefficients):\n",
    "    a, b, c = coefficients\n",
    "    for x in range(img.shape[0]):\n",
    "        for y in range(img.shape[1]):\n",
    "            if abs(a*x + b*y + c) < 1:  # Adjust this threshold as needed\n",
    "                img[x, y] = 255\n",
    "\n",
    "# Initialize a blank image\n",
    "image = np.zeros((28, 28))\n",
    "\n",
    "# Horizontal line coefficients (y = 13)\n",
    "# x + 0*y - 13 = 0  -> 0x + 1y - 13 = 0 in homogeneous form is represented as [0, 1, -13]\n",
    "horizontal_line = [0, 1, -13]\n",
    "\n",
    "# Vertical line coefficients (x = 13)\n",
    "# 1x + 0*y - 13 = 0 -> 1x + 0y - 13 = 0 in homogeneous form is represented as [1, 0, -13]\n",
    "vertical_line = [1, 0, -13]\n",
    "\n",
    "# Set lines on the image using homogeneous coordinates\n",
    "set_line(image, horizontal_line)\n",
    "set_line(image, vertical_line)\n",
    "\n",
    "# Now, image can be transformed and plotted as before\n",
    "plt.imshow(image, cmap='gray')\n",
    "plt.title('Image with Lines Defined Homogeneously')\n",
    "plt.axis('off')\n",
    "plt.show()\n"
   ],
   "id": "9eadd59cc9293e4c",
   "outputs": [
    {
     "data": {
      "text/plain": [
       "<Figure size 640x480 with 1 Axes>"
      ],
      "image/png": "[encoded data removed]"
     },
     "metadata": {},
     "output_type": "display_data"
    }
   ],
   "execution_count": 11
  },
  {
   "metadata": {},
   "cell_type": "code",
   "outputs": [],
   "execution_count": null,
   "source": "",
   "id": "9d3c73c22d7300c4"
  }
 ],
 "metadata": {
  "kernelspec": {
   "display_name": "Python 3",
   "language": "python",
   "name": "python3"
  },
  "language_info": {
   "codemirror_mode": {
    "name": "ipython",
    "version": 2
   },
   "file_extension": ".py",
   "mimetype": "text/x-python",
   "name": "python",
   "nbconvert_exporter": "python",
   "pygments_lexer": "ipython2",
   "version": "2.7.6"
  }
 },
 "nbformat": 4,
 "nbformat_minor": 5
}
